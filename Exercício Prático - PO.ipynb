{
  "cells": [
    {
      "cell_type": "markdown",
      "metadata": {
        "id": "btv0znHmsR5D"
      },
      "source": [
        "# Aula prática: Mix de Produção\n",
        "<sup>Adaptado dos exercícios 2.3 e 2.5 do livro `Pesquisa Operaciona` de `Arenales, Armentano, Morabito e Yanass`.</sup>"
      ]
    },
    {
      "cell_type": "markdown",
      "metadata": {
        "id": "0hUSOEftsR5E"
      },
      "source": [
        "## Exercício 1"
      ]
    },
    {
      "cell_type": "markdown",
      "metadata": {
        "id": "T_SOsXELsR5E"
      },
      "source": [
        "### Descrição do problema\n",
        "Uma fundição tem de produzir 10 toneladas de um tipo de liga metálica e, para isso, tem disponível: lingotes de ferro, grafite e sucata. Dois componentes são relevantes para a liga: carbono e silício. As tabelas a seguir fornecem a fração desses elementos nos ingredientes disponíveis, seus custos unitários, bem como a composição da liga (isto é, porcentagens mínimas e máximas de cada componente da liga).\n",
        "\n",
        "Composição(%) e custo(R$/ton):\n",
        "\n",
        "| | Lingotes | Grafite | Sucata |\n",
        "|:---|:---:|:---:|:---:|\n",
        "| Carbono | 0.005 | 0.9 | 0.09 |\n",
        "| Silício | 0.14 | - | 0.27 |\n",
        "| Custo | 90 | 180 | 25 |\n",
        "\n",
        "Composição(%) mínima e máxima:\n",
        "\n",
        "| | min | max |\n",
        "|:---|:---:|:---:|\n",
        "|Carbono | 0.0 | 0.095 |\n",
        "|Silício | 0.19 | 0.2 |\n",
        "\n",
        "\n",
        "Escreva um modelo de otimização linear para determinar as quantidades dos ingredientes para compor a liga metálica, de modo que as especificações técnicas sejam satisfeitas e o custo seja mínimo."
      ]
    },
    {
      "cell_type": "markdown",
      "metadata": {
        "id": "EtPxBakTtQbV"
      },
      "source": [
        "### Resolução"
      ]
    },
    {
      "cell_type": "code",
      "execution_count": null,
      "metadata": {
        "id": "7pMG-i60tGC4"
      },
      "outputs": [],
      "source": [
        "# instalação e importação do pacote mip\n",
        "!pip install mip\n",
        "\n",
        "from mip import *"
      ]
    },
    {
      "cell_type": "markdown",
      "metadata": {
        "id": "Soe9owdkxmmg"
      },
      "source": [
        "Carrega Dados"
      ]
    },
    {
      "cell_type": "code",
      "execution_count": 3,
      "metadata": {
        "id": "1foz1NwTtzuH"
      },
      "outputs": [],
      "source": [
        "# composição de cada ingrediente\n",
        "a = {\n",
        "    'l': {'c': 0.005, 's': 0.14},\n",
        "    'g': {'c': 0.9,   's': 0.0},\n",
        "    's': {'c': 0.09,  's': 0.27},\n",
        "}\n",
        "\n",
        "# custo\n",
        "c = {'l': 90, 'g': 180, 's': 25}\n",
        "\n",
        "# composições mínimas e máximas dos componentes\n",
        "n = {'c': 0.0, 's': 0.19}  # min\n",
        "m = {'c': 0.095, 's': 0.2} # max\n",
        "\n",
        "# quantidade desejada da liga\n",
        "Q = 10"
      ]
    },
    {
      "cell_type": "markdown",
      "metadata": {
        "id": "1tHfPbSfxp_k"
      },
      "source": [
        "Cria modelo"
      ]
    },
    {
      "cell_type": "code",
      "source": [
        "model = Model()\n",
        "x = [model.add_var() for i in range(3)]\n",
        "c = [90, 180, 25]\n",
        "model.objective = minimize(xsum(c[i]*x[i] for i in range(3)))\n",
        "\n",
        "c1 = [0.005, 0.9, 0.09]\n",
        "c2 = [0.14, 0.27]\n",
        "model += xsum(c1[i]*x[i] for i in range(3)) <= 0.95, 'maximo de carbono'\n",
        "model += xsum(c1[i]*x[i] for i in range(3)) >= 0, 'minimo de carbono'\n",
        "\n",
        "model += xsum([c2[0]*x[0], c2[1]*x[2]]) <= 2, 'maximo de silicio'\n",
        "model += xsum([c2[0]*x[0], c2[1]*x[2]]) >= 1.9, 'minimo de silicio'\n",
        "\n",
        "model += xsum(x[i] for i in range(3)) == 10, 'minimo de toneladas'\n",
        "\n",
        "model += x[0] >= 0, 'nao negatividade de x1'\n",
        "model += x[1] >= 0, 'nao negatividade de x2'\n",
        "model += x[2] >= 0, 'nao negatividade de x3'\n",
        "\n",
        "model.write(\"model.lp\") # salva modelo em arquivo\n",
        "with open(\"model.lp\") as f: # lê e exibe conteúdo do arquivo\n",
        "  print(f.read())"
      ],
      "metadata": {
        "id": "woEL0ub3W17Q"
      },
      "execution_count": null,
      "outputs": []
    },
    {
      "cell_type": "markdown",
      "metadata": {
        "id": "dC0dH9Vgx11z"
      },
      "source": [
        "Executa"
      ]
    },
    {
      "cell_type": "code",
      "execution_count": 14,
      "metadata": {
        "id": "Ytos1fiAyt5n",
        "colab": {
          "base_uri": "https://localhost:8080/"
        },
        "outputId": "252ec9df-b1ca-4332-f8be-d12f34b810ab"
      },
      "outputs": [
        {
          "output_type": "stream",
          "name": "stdout",
          "text": [
            "Status =  OptimizationStatus.OPTIMAL\n",
            "Solution value  = 600.00\n",
            "\n",
            "Solution:\n",
            "var(0) = 5.38\n",
            "var(1) = 0.00\n",
            "var(2) = 4.62\n"
          ]
        }
      ],
      "source": [
        "def solve(model):\n",
        "  status = model.optimize()\n",
        "\n",
        "  print(\"Status = \", status)\n",
        "  print(f\"Solution value  = {model.objective_value:.2f}\\n\")\n",
        "  \n",
        "  print(\"Solution:\")\n",
        "  for v in model.vars:\n",
        "      print(f\"{v.name} = {v.x:.2f}\")\n",
        "\n",
        "solve(model)"
      ]
    },
    {
      "cell_type": "markdown",
      "metadata": {
        "id": "0Sp8kCaGsR5E"
      },
      "source": [
        "## Exercício 2"
      ]
    },
    {
      "cell_type": "markdown",
      "metadata": {
        "id": "7PPfPnU7sR5E"
      },
      "source": [
        "Agora considere que os ingredientes tem o estoque limitado, de acordo com a tabela abaixo.\n",
        "\n",
        "| | Lingotes | Grafite | Sucata |\n",
        "|:---|:---:|:---:|:---:|\n",
        "| Estoque (ton) | 5 | 5 | 12 |\n",
        "\n",
        "Como o modelo pode ser modificado para atender a esse requisito?"
      ]
    },
    {
      "cell_type": "markdown",
      "metadata": {
        "id": "fSrbmrBD0fb9"
      },
      "source": [
        "### Código"
      ]
    },
    {
      "cell_type": "markdown",
      "metadata": {
        "id": "2iAz0aU99Dxo"
      },
      "source": [
        "Carrega Dados"
      ]
    },
    {
      "cell_type": "code",
      "execution_count": 15,
      "metadata": {
        "id": "Yz_PtRT89GxZ"
      },
      "outputs": [],
      "source": [
        "# estoque\n",
        "e = {'l': 5, 'g': 5, 's': 12}"
      ]
    },
    {
      "cell_type": "markdown",
      "metadata": {
        "id": "s9G5Hep50y0V"
      },
      "source": [
        "Cria modelo"
      ]
    },
    {
      "cell_type": "code",
      "source": [
        "model += x[0] <= 5, 'maximo de toneladas de lingotes'\n",
        "model += x[1] <= 5, 'maximo de toneladas de grafite'\n",
        "model += x[2] <= 12, 'maximo de toneladas de sucata'\n",
        "\n",
        "model.write(\"modelo2.lp\") # salva modelo em arquivo\n",
        "with open(\"modelo2.lp\") as f: # Lê e exibe conteúdo do arquivo\n",
        "  print(f.read())"
      ],
      "metadata": {
        "id": "Ez6lX92UZxBU",
        "colab": {
          "base_uri": "https://localhost:8080/"
        },
        "outputId": "6fc58afb-401a-4c52-f9dc-e054397a68fa"
      },
      "execution_count": 16,
      "outputs": [
        {
          "output_type": "stream",
          "name": "stdout",
          "text": [
            "\\Problem name: \n",
            "\n",
            "Minimize\n",
            "obj: 90 var(0) + 180 var(1) + 25 var(2)\n",
            "Subject To\n",
            "cons0:  0.00500 var(0) + 0.90000 var(1) + 0.09000 var(2) <= 0.95000\n",
            "cons1:  0.00500 var(0) + 0.90000 var(1) + 0.09000 var(2) >= -0\n",
            "cons2:  0.14000 var(0) + 0.27000 var(2) <= 2\n",
            "cons3:  0.14000 var(0) + 0.27000 var(2) >= 1.90000\n",
            "cons4:  var(0) + var(1) + var(2) = 10\n",
            "cons5:  var(0) >= 0\n",
            "cons6:  var(1) >= 0\n",
            "cons7:  var(2) >= 0\n",
            "cons8:  var(0) <= 5\n",
            "cons9:  var(1) <= 5\n",
            "cons10:  var(2) <= 12\n",
            "Bounds\n",
            "End\n",
            "\n"
          ]
        }
      ]
    },
    {
      "cell_type": "markdown",
      "metadata": {
        "id": "Ue3ahEFA01L_"
      },
      "source": [
        "Executa"
      ]
    },
    {
      "cell_type": "code",
      "execution_count": 17,
      "metadata": {
        "id": "EVs-Fx6D02Tc",
        "colab": {
          "base_uri": "https://localhost:8080/"
        },
        "outputId": "3aebd50a-8e62-41d2-bbf3-6b0e0ea84d56"
      },
      "outputs": [
        {
          "output_type": "stream",
          "name": "stdout",
          "text": [
            "Status =  OptimizationStatus.OPTIMAL\n",
            "Solution value  = 603.70\n",
            "\n",
            "Solution:\n",
            "var(0) = 5.00\n",
            "var(1) = 0.19\n",
            "var(2) = 4.81\n"
          ]
        }
      ],
      "source": [
        "solve(model)"
      ]
    },
    {
      "cell_type": "markdown",
      "metadata": {
        "id": "2mE7ipJPsR5F"
      },
      "source": [
        "## Exercício 3"
      ]
    },
    {
      "cell_type": "markdown",
      "metadata": {
        "id": "-Er_QuwBsR5F"
      },
      "source": [
        "Suponha agora que duas ligas metálicas devem ser preparadas e os mesmos ingredientes são utilizados em ambas. A liga especificada no Exercício 1 é referida como liga 1 e devem ser produzidas 10 toneladas desta liga. Da outra liga, referida como liga 2, devem ser produzidas 6 toneladas e sua composição mínima e máxima é dada na tabela abaixo.\n",
        "\n",
        "| | min | max |\n",
        "|:---|:---:|:---:|\n",
        "|Carbono | 0.00 | 0.4 |\n",
        "|Silício | 0.12 | 0.19 |\n"
      ]
    },
    {
      "cell_type": "markdown",
      "metadata": {
        "id": "Ay3bSczF1Ldt"
      },
      "source": [
        "### Código"
      ]
    },
    {
      "cell_type": "markdown",
      "metadata": {
        "id": "v12Efn0tMq3m"
      },
      "source": [
        "Carrega dados"
      ]
    },
    {
      "cell_type": "code",
      "execution_count": null,
      "metadata": {
        "id": "dFhCoNM1MtVy"
      },
      "outputs": [],
      "source": [
        "# composições mínimas e máximas dos componentes\n",
        "n = [{'c': 0.0, 's': 0.19}, {'c': 0.0, 's': 0.12}]\n",
        "m = [{'c': 0.095, 's': 0.2}, {'c': 0.4, 's': 0.19}]\n",
        "\n",
        "# quantidade desejada da liga\n",
        "Q = [10, 6]"
      ]
    },
    {
      "cell_type": "markdown",
      "metadata": {
        "id": "xMEEKulx1SN9"
      },
      "source": [
        "Cria modelo"
      ]
    },
    {
      "cell_type": "code",
      "source": [
        "model = Model()\n",
        "x = [model.add_var() for i in range(6)]\n",
        "c = [90, 180, 25, 90, 180, 25]\n",
        "model.objective = minimize(xsum(c[i]*x[i] for i in range(6)))\n",
        "\n",
        "c1 = [0.005, 0.9, 0.09]\n",
        "c2 = [0.14, 0.27]\n",
        "model += xsum(c1[i]*x[i] for i in range(3)) <= 0.95, 'maximo de carbono na liga 1'\n",
        "model += xsum(c1[i]*x[i] for i in range(3)) >= 0, 'minimo de carbono na liga 1'\n",
        "\n",
        "model += xsum([c2[0]*x[0], c2[1]*x[2]]) <= 2, 'maximo de silicio na liga 1'\n",
        "model += xsum([c2[0]*x[0], c2[1]*x[2]]) >= 1.9, 'minimo de silicio na liga 1'\n",
        "\n",
        "model += xsum(x[i] for i in range(3)) == 10, 'toneladas requeridas da liga 1'\n",
        "\n",
        "model += x[0] >= 0, 'nao negatividade de x1'\n",
        "model += x[1] >= 0, 'nao negatividade de x2'\n",
        "model += x[2] >= 0, 'nao negatividade de x3'\n",
        "model += x[3] >= 0, 'nao negatividade de x4'\n",
        "model += x[4] >= 0, 'nao negatividade de x5'\n",
        "model += x[5] >= 0, 'nao negatividade de x6'\n",
        "\n",
        "model += xsum([c1[0]*x[3], c1[1]*x[4], c1[2]*x[5]]) <= 2.4, 'maximo de carbono na liga 2'\n",
        "model += xsum([c1[0]*x[3], c1[1]*x[4], c1[2]*x[5]]) >= 0, 'minimo de carbono na liga 2'\n",
        "\n",
        "model += xsum([c2[0]*x[3], c2[1]*x[5]]) <= 1.14, 'maximo de silicio na liga 2'\n",
        "model += xsum([c2[0]*x[3], c2[1]*x[5]]) >= 0.72, 'minimo de silicio na liga 2'\n",
        "\n",
        "model += xsum(x[i] for i in range(3,6)) == 6, 'toneladas requeridas da liga 2'\n",
        "\n",
        "model += x[0] + x[3] <= 5, 'maximo de toneladas de lingotes'\n",
        "model += x[1] + x[4] <= 5, 'maximo de toneladas de grafite'\n",
        "model += x[2] + x[5] <= 12, 'maximo de toneladas de sucata'\n",
        "\n",
        "model.write(\"modelo3.lp\") # salva modelo em arquivo\n",
        "with open(\"modelo3.lp\") as f: # lê e exibe conteúdo do arquivo\n",
        "  print(f.read())"
      ],
      "metadata": {
        "id": "GWULXSegdJct",
        "colab": {
          "base_uri": "https://localhost:8080/"
        },
        "outputId": "e9999df1-d4a5-4508-8497-289888b5f1f5"
      },
      "execution_count": 34,
      "outputs": [
        {
          "output_type": "stream",
          "name": "stdout",
          "text": [
            "\\Problem name: \n",
            "\n",
            "Minimize\n",
            "obj: 90 var(0) + 180 var(1) + 25 var(2) + 90 var(3) + 180 var(4) + 25 var(5)\n",
            "Subject To\n",
            "cons0:  0.00500 var(0) + 0.90000 var(1) + 0.09000 var(2) <= 0.95000\n",
            "cons1:  0.00500 var(0) + 0.90000 var(1) + 0.09000 var(2) >= -0\n",
            "cons2:  0.14000 var(0) + 0.27000 var(2) <= 2\n",
            "cons3:  0.14000 var(0) + 0.27000 var(2) >= 1.90000\n",
            "cons4:  var(0) + var(1) + var(2) = 10\n",
            "cons5:  var(0) >= 0\n",
            "cons6:  var(1) >= 0\n",
            "cons7:  var(2) >= 0\n",
            "cons8:  var(3) >= 0\n",
            "cons9:  var(4) >= 0\n",
            "cons10:  var(5) >= 0\n",
            "cons11:  0.00500 var(3) + 0.90000 var(4) + 0.09000 var(5) <= 2.40000\n",
            "cons12:  0.00500 var(3) + 0.90000 var(4) + 0.09000 var(5) >= -0\n",
            "cons13:  0.14000 var(3) + 0.27000 var(5) <= 1.14000\n",
            "cons14:  0.14000 var(3) + 0.27000 var(5) >= 0.72000\n",
            "cons15:  var(3) + var(4) + var(5) = 6\n",
            "cons16:  var(0) + var(3) <= 5\n",
            "cons17:  var(1) + var(4) <= 5\n",
            "cons18:  var(2) + var(5) <= 12\n",
            "Bounds\n",
            "End\n",
            "\n"
          ]
        }
      ]
    },
    {
      "cell_type": "markdown",
      "metadata": {
        "id": "8JECPXkw1UYP"
      },
      "source": [
        "Executa"
      ]
    },
    {
      "cell_type": "code",
      "execution_count": 35,
      "metadata": {
        "id": "21cod-L71Wmr",
        "colab": {
          "base_uri": "https://localhost:8080/"
        },
        "outputId": "62f943be-0650-4b85-d772-83391d29b6b8"
      },
      "outputs": [
        {
          "output_type": "stream",
          "name": "stdout",
          "text": [
            "Status =  OptimizationStatus.OPTIMAL\n",
            "Solution value  = 1029.26\n",
            "\n",
            "Solution:\n",
            "var(0) = 4.32\n",
            "var(1) = 0.51\n",
            "var(2) = 5.17\n",
            "var(3) = 0.68\n",
            "var(4) = 1.45\n",
            "var(5) = 3.87\n"
          ]
        }
      ],
      "source": [
        "solve(model)"
      ]
    }
  ],
  "metadata": {
    "colab": {
      "collapsed_sections": [],
      "name": "Cópia de MixProducao.ipynb",
      "provenance": []
    },
    "kernelspec": {
      "display_name": "Python 3",
      "language": "python",
      "name": "python3"
    },
    "language_info": {
      "codemirror_mode": {
        "name": "ipython",
        "version": 3
      },
      "file_extension": ".py",
      "mimetype": "text/x-python",
      "name": "python",
      "nbconvert_exporter": "python",
      "pygments_lexer": "ipython3",
      "version": "3.9.12"
    },
    "vscode": {
      "interpreter": {
        "hash": "375d3134e2271422fd67fc0237b3f1ee69ce72c62d280e2fa6411e6a088e62bf"
      }
    }
  },
  "nbformat": 4,
  "nbformat_minor": 0
}